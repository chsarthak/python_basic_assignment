{
  "nbformat": 4,
  "nbformat_minor": 0,
  "metadata": {
    "colab": {
      "provenance": []
    },
    "kernelspec": {
      "name": "python3",
      "display_name": "Python 3"
    },
    "language_info": {
      "name": "python"
    }
  },
  "cells": [
    {
      "cell_type": "code",
      "execution_count": 2,
      "metadata": {
        "id": "gcl7OQuHmBBp"
      },
      "outputs": [],
      "source": [
        "#Assignment 1\n",
        "\n",
        "\n",
        "#Q1)Explain the key features of python that makes it a popular choice for programming\n",
        "\n",
        "#Python has gained immense popularity among developers for several key reasons:\n",
        "\n",
        "# Python's syntax is clear and concise, making it easy to read and write. This simplicity lowers the barrier to entry for beginners and enhances productivity for experienced developers.\n",
        "# Python supports multiple programming paradigms, including procedural, object-oriented, and functional programming. This flexibility allows developers to choose the best approach for their specific problem.\n",
        "# Python comes with a comprehensive standard library that provides modules and functions for a wide range of tasks, from file handling to web development. This means developers can accomplish many tasks without needing third-party libraries.\n",
        "# Python runs on various operating systems, including Windows, macOS, and Linux, making it a versatile choice for developers working in different environments.\n",
        "# Python's simplicity and dynamic typing allow for quick prototyping, making it an excellent choice for startups and projects where time-to-market is critical.\n",
        "# Python is increasingly used in emerging fields like artificial intelligence, machine learning, data analysis, and automation, making it a relevant skill in today’s job market.\n",
        "# Beyond the standard library, Python has a vast ecosystem of third-party packages available via the Python Package Index (PyPI). Libraries like NumPy, pandas, and TensorFlow make Python a go-to language for data science, machine learning, and web development.\n",
        "\n",
        "\n",
        "\n"
      ]
    },
    {
      "cell_type": "code",
      "source": [
        "#Q2)Describe the role of predefined keywords in python and provide example how they are used in a program.\n",
        "\n",
        "#Predefined keywords in Python are reserved words that have special meanings and cannot be used as identifiers (like variable names, function names, etc.). These keywords define the syntax and structure of the Python language, allowing for control flow, data types, and other fundamental features of the language.\n",
        "# Role of predefined keywords:-\n",
        "#Control Flow: Keywords like if, else, elif, for, while, and break are used to control the execution flow of a program.\n",
        "#Function Definition: Keywords such as def and return are used to define functions and return values from them.\n",
        "#data Types: Keywords like class, True, False, and None define data types and classes.\n",
        "#Error Handling: Keywords like try, except, finally, and raise are used for handling exceptions.\n",
        "#Example:-\n",
        "# Define a function to check if a number is even or odd\n",
        "def check_even_odd(number):\n",
        "    if number % 2 == 0:  # 'if' keyword for condition checking\n",
        "        return True      # 'return' keyword to return a value\n",
        "    else:\n",
        "        return False\n",
        "\n",
        "# Main part of the program\n",
        "def main():\n",
        "    # Using a for loop to iterate through a range of numbers\n",
        "    for num in range(1, 11):  # 'for' keyword to loop\n",
        "        if check_even_odd(num):  # Calling the function\n",
        "            print(f\"{num} is even\")  # Printing if the number is even\n",
        "        else:\n",
        "            print(f\"{num} is odd\")   # Printing if the number is odd\n",
        "\n",
        "# Using the 'if' keyword to check if the script is being run directly\n",
        "if __name__ == \"__main__\":\n",
        "    main()  # Call the main function\n"
      ],
      "metadata": {
        "colab": {
          "base_uri": "https://localhost:8080/"
        },
        "id": "PQeG5ymJoaAw",
        "outputId": "bf976abe-2451-471c-d6f7-55812eabdc5d"
      },
      "execution_count": 3,
      "outputs": [
        {
          "output_type": "stream",
          "name": "stdout",
          "text": [
            "1 is odd\n",
            "2 is even\n",
            "3 is odd\n",
            "4 is even\n",
            "5 is odd\n",
            "6 is even\n",
            "7 is odd\n",
            "8 is even\n",
            "9 is odd\n",
            "10 is even\n"
          ]
        }
      ]
    },
    {
      "cell_type": "code",
      "source": [
        "#Q3)Compare and contrast mutable and immutable objects in python with example\n",
        "\n",
        "#In Python, objects can be classified as mutable or immutable based on whether their state can be changed after they are created. Understanding the distinction is crucial for effective programming in Python\n",
        "\n",
        "#Mutable Objects:-\n",
        "#Definition: Mutable objects are those whose state or contents can be changed after they are created.\n",
        "#Examples: Lists, dictionaries, sets, and bytearrays are mutable.\n",
        "\n",
        "#Mutability Example\n",
        "\n",
        "# Example of a mutable object: list\n",
        "my_list = [1, 2, 3]\n",
        "print(\"Original list:\", my_list)\n",
        "\n",
        "# Modifying the list\n",
        "my_list.append(4)\n",
        "print(\"Modified list:\", my_list)\n",
        "\n",
        "# Changing an element\n",
        "my_list[0] = 10\n",
        "print(\"List after changing an element:\", my_list)\n"
      ],
      "metadata": {
        "colab": {
          "base_uri": "https://localhost:8080/"
        },
        "id": "pZ2enqV9qeAv",
        "outputId": "43cfff7c-d98c-48fb-8e6c-de8a78610588"
      },
      "execution_count": 4,
      "outputs": [
        {
          "output_type": "stream",
          "name": "stdout",
          "text": [
            "Original list: [1, 2, 3]\n",
            "Modified list: [1, 2, 3, 4]\n",
            "List after changing an element: [10, 2, 3, 4]\n"
          ]
        }
      ]
    },
    {
      "cell_type": "code",
      "source": [
        "#Immutable Objects\n",
        "\n",
        "#Definition: Immutable objects are those whose state or contents cannot be changed after they are created.\n",
        "#Examples: Strings, tuples, and frozensets are immutable.\n",
        "\n",
        "#immutability example\n",
        "\n",
        "# Example of an immutable object: string\n",
        "my_string = \"hello\"\n",
        "print(\"Original string:\", my_string)\n",
        "\n",
        "# Attempting to change the string (this will raise an error)\n",
        "# my_string[0] = \"H\"  # This line would raise a TypeError\n",
        "\n",
        "# Correct way to \"change\" a string is to create a new one\n",
        "new_string = \"H\" + my_string[1:]\n",
        "print(\"Modified string:\", new_string)\n",
        "\n"
      ],
      "metadata": {
        "colab": {
          "base_uri": "https://localhost:8080/"
        },
        "id": "G3KkF6sOr9be",
        "outputId": "2762abc4-6f65-4d89-c949-25a50ba4e03e"
      },
      "execution_count": 5,
      "outputs": [
        {
          "output_type": "stream",
          "name": "stdout",
          "text": [
            "Original string: hello\n",
            "Modified string: Hello\n"
          ]
        }
      ]
    },
    {
      "cell_type": "code",
      "source": [
        "\n",
        "#Q4)Discuss the different types of operators in Python and provide examples of how they are used.\n",
        "\n",
        "#operators:-Python operators are essential for performing various operations and manipulating data. By understanding the different types of operators and how they work, you can write more efficient and effective Python code.\n",
        "\n",
        "#arithmetic operator\n",
        "#These operators are used to perform basic mathematical operations.\n",
        "#Example:-\n",
        "\n",
        "a = 10\n",
        "b = 3\n",
        "print(a + b)  # Output: 13\n",
        "print(a / b)  # Output: 3.3333...\n",
        "print(a // b) # Output: 3\n",
        "print(a ** b) # Output: 1000\n"
      ],
      "metadata": {
        "colab": {
          "base_uri": "https://localhost:8080/"
        },
        "id": "dh_dXuEDtfsT",
        "outputId": "f87215a0-e3e2-4efa-82bb-d0fdb6cf746a"
      },
      "execution_count": 6,
      "outputs": [
        {
          "output_type": "stream",
          "name": "stdout",
          "text": [
            "13\n",
            "3.3333333333333335\n",
            "3\n",
            "1000\n"
          ]
        }
      ]
    },
    {
      "cell_type": "code",
      "source": [
        "# Relational (Comparison) Operators\n",
        "#These operators compare two values and return a Boolean result (True or False).\n",
        "\n",
        "#Example:-\n",
        "a = 5\n",
        "b = 3\n",
        "print(a == b)  # Output: False\n",
        "print(a > b)   # Output: True\n"
      ],
      "metadata": {
        "colab": {
          "base_uri": "https://localhost:8080/"
        },
        "id": "FkQujiByBoU4",
        "outputId": "57de6494-8f04-409d-f1a1-74d60bca8948"
      },
      "execution_count": 7,
      "outputs": [
        {
          "output_type": "stream",
          "name": "stdout",
          "text": [
            "False\n",
            "True\n"
          ]
        }
      ]
    },
    {
      "cell_type": "code",
      "source": [
        "# Logical Operators\n",
        "#These operators are used to combine conditional statements.\n",
        "\n",
        "#Example:-\n",
        "a = True\n",
        "b = False\n",
        "print(a and b)  # Output: False\n",
        "print(a or b)   # Output: True\n",
        "print(not a)    # Output: False\n"
      ],
      "metadata": {
        "colab": {
          "base_uri": "https://localhost:8080/"
        },
        "id": "vbX0K1-TCSo9",
        "outputId": "52f8f748-d8c2-40e8-f607-18bfa567ca33"
      },
      "execution_count": 8,
      "outputs": [
        {
          "output_type": "stream",
          "name": "stdout",
          "text": [
            "False\n",
            "True\n",
            "False\n"
          ]
        }
      ]
    },
    {
      "cell_type": "code",
      "source": [
        "#Assignment Operators\n",
        "#These operators are used to assign values to variables.\n",
        "\n",
        "#Example:-\n",
        "x = 10\n",
        "x += 5  # x becomes 15\n",
        "x *= 2  # x becomes 30\n",
        "print(x)  # Output: 30\n"
      ],
      "metadata": {
        "colab": {
          "base_uri": "https://localhost:8080/"
        },
        "id": "qpe9WY6oCnjX",
        "outputId": "8ed120ed-9569-4c5e-84f1-0fbf6e4624a3"
      },
      "execution_count": 9,
      "outputs": [
        {
          "output_type": "stream",
          "name": "stdout",
          "text": [
            "30\n"
          ]
        }
      ]
    },
    {
      "cell_type": "code",
      "source": [
        "#Bitwise Operators\n",
        "#These operators perform operations on bits and are used for manipulating binary representations of integers.\n",
        "\n",
        "#Example:-\n",
        "a = 5  # binary: 0101\n",
        "b = 3  # binary: 0011\n",
        "print(a & b)  # Output: 1  (binary: 0001)\n",
        "print(a | b)  # Output: 7  (binary: 0111)\n"
      ],
      "metadata": {
        "colab": {
          "base_uri": "https://localhost:8080/"
        },
        "id": "S3dSeAO_C01J",
        "outputId": "970c6b6b-d5bb-408c-8be8-c968a6b9f961"
      },
      "execution_count": 10,
      "outputs": [
        {
          "output_type": "stream",
          "name": "stdout",
          "text": [
            "1\n",
            "7\n"
          ]
        }
      ]
    },
    {
      "cell_type": "code",
      "source": [
        "# Identity Operators\n",
        "#These operators are used to check if two variables point to the same object in memory.\n",
        "\n",
        "#Example:-\n",
        "a = [1, 2, 3]\n",
        "b = a\n",
        "c = list(a)\n",
        "\n",
        "print(a is b)    # Output: True\n",
        "print(a is c)    # Output: False\n",
        "print(a == c)    # Output: True\n"
      ],
      "metadata": {
        "colab": {
          "base_uri": "https://localhost:8080/"
        },
        "id": "J953atnADL8D",
        "outputId": "bf3810db-8c52-43fd-c4cf-362fdc805d41"
      },
      "execution_count": 11,
      "outputs": [
        {
          "output_type": "stream",
          "name": "stdout",
          "text": [
            "True\n",
            "False\n",
            "True\n"
          ]
        }
      ]
    },
    {
      "cell_type": "code",
      "source": [
        "#Membership Operators\n",
        "#These operators are used to test if a value is a member of a sequence (like a list, tuple, or string).\n",
        "\n",
        "#Example:-\n",
        "my_list = [1, 2, 3, 4, 5]\n",
        "print(3 in my_list)   # Output: True\n",
        "print(6 in my_list)   # Output: False\n"
      ],
      "metadata": {
        "colab": {
          "base_uri": "https://localhost:8080/"
        },
        "id": "l2K0TU1cDilq",
        "outputId": "2e38cdb1-7445-4529-e8a6-4ba38d8f8eca"
      },
      "execution_count": 12,
      "outputs": [
        {
          "output_type": "stream",
          "name": "stdout",
          "text": [
            "True\n",
            "False\n"
          ]
        }
      ]
    },
    {
      "cell_type": "code",
      "source": [
        "#Q5)Explain the concept of type casting in python with example\n",
        "\n",
        "#Type casting in Python refers to the process of converting one data type into another. This is useful when you need to perform operations on different types or when you want to ensure that data is in a specific format.\n",
        "#Types of Type Casting:-\n",
        "#1.)Implicit Type Casting: This occurs automatically when Python converts one data type to another without losing information. For example, converting an integer to a float.\n",
        "#2.)Explicit Type Casting: This requires the use of built-in functions to convert one data type to another, such as converting a float to an integer.\n",
        "\n",
        "#Example\n",
        "#Implicit type casting\n",
        "\n",
        "# Example of implicit type casting\n",
        "a = 5      # Integer\n",
        "b = 2.0    # Float\n",
        "\n",
        "# Python automatically converts 'a' to float for the addition\n",
        "result = a + b\n",
        "print(\"Result of implicit casting:\", result)  # Output: 7.0\n",
        "print(\"Type of result:\", type(result))        # Output: <class 'float'>\n"
      ],
      "metadata": {
        "colab": {
          "base_uri": "https://localhost:8080/"
        },
        "id": "GlnlEPV6Dw0s",
        "outputId": "0fe8ce71-825f-4117-aa65-597f6bf6519c"
      },
      "execution_count": 13,
      "outputs": [
        {
          "output_type": "stream",
          "name": "stdout",
          "text": [
            "Result of implicit casting: 7.0\n",
            "Type of result: <class 'float'>\n"
          ]
        }
      ]
    },
    {
      "cell_type": "code",
      "source": [
        "\n",
        "#Explicit type casting example\n",
        "\n",
        "# Example of explicit type casting\n",
        "x = 10.5   # Float\n",
        "\n",
        "# Converting float to integer\n",
        "y = int(x)  # This will truncate the decimal part\n",
        "print(\"Converted value:\", y)          # Output: 10\n",
        "print(\"Type of y:\", type(y))          # Output: <class 'int'>\n",
        "\n",
        "# Converting integer to string\n",
        "z = str(y)\n",
        "print(\"String representation:\", z)     # Output: '10'\n",
        "print(\"Type of z:\", type(z))          # Output: <class 'str'>\n"
      ],
      "metadata": {
        "colab": {
          "base_uri": "https://localhost:8080/"
        },
        "id": "FOVmBITZE_97",
        "outputId": "b75843d5-b269-4c03-da50-2f1f726e073f"
      },
      "execution_count": 14,
      "outputs": [
        {
          "output_type": "stream",
          "name": "stdout",
          "text": [
            "Converted value: 10\n",
            "Type of y: <class 'int'>\n",
            "String representation: 10\n",
            "Type of z: <class 'str'>\n"
          ]
        }
      ]
    },
    {
      "cell_type": "code",
      "source": [
        "#Q5)How do conditional statements work in python ? Illustrate with example.\n",
        "\n",
        "#In Python, conditional statements are used to perform different actions based on certain conditions. The most common conditional statement is the if statement, which allows you to execute a block of code if a specified condition is true.\n",
        "#if statement: The if statement checks a condition and executes the block of code if the condition is true.\n",
        "#else statement: The else statement can be used to define an alternative block of code that runs if the condition in the if statement is false.\n",
        "#elif statement: The elif (short for \"else if\") statement allows you to check multiple conditions and execute the corresponding block of code when one of the conditions is true.\n",
        "\n",
        "#Example of Conditional Statements in Python:\n",
        "# A program to check if a number is positive, negative, or zero\n",
        "\n",
        "number = 5\n",
        "\n",
        "# if statement\n",
        "if number > 0:\n",
        "    print(f\"{number} is a positive number.\")\n",
        "\n",
        "# elif statement\n",
        "elif number < 0:\n",
        "    print(f\"{number} is a negative number.\")\n",
        "\n",
        "# else statement\n",
        "else:\n",
        "    print(f\"{number} is zero.\")\n"
      ],
      "metadata": {
        "colab": {
          "base_uri": "https://localhost:8080/"
        },
        "id": "yXzQ2AxqFLlB",
        "outputId": "80783aa5-58a3-4c1d-c74b-0758cfb63186"
      },
      "execution_count": 15,
      "outputs": [
        {
          "output_type": "stream",
          "name": "stdout",
          "text": [
            "5 is a positive number.\n"
          ]
        }
      ]
    },
    {
      "cell_type": "code",
      "source": [
        "#Q6)Describe the different types of loops in Python and their use cases with examples.\n",
        "\n",
        "#In Python, loops are used to execute a block of code repeatedly as long as a certain condition is met. There are two primary types of loops in Python:\n",
        "#1)for loop\n",
        "#2)while loop\n",
        "\n",
        "#1.)for loop\n",
        "#In Python, loops are used to execute a block of code repeatedly as long as a certain condition is met. There are two primary types of loops in Python:\n",
        "# Example: Print each item in a list\n",
        "fruits = [\"apple\", \"banana\", \"cherry\"]\n",
        "\n",
        "for fruit in fruits:\n",
        "    print(fruit)\n"
      ],
      "metadata": {
        "colab": {
          "base_uri": "https://localhost:8080/"
        },
        "id": "RXzn0fKiGvLp",
        "outputId": "6e38a1c0-4d03-4be5-997f-090c4f10db38"
      },
      "execution_count": 16,
      "outputs": [
        {
          "output_type": "stream",
          "name": "stdout",
          "text": [
            "apple\n",
            "banana\n",
            "cherry\n"
          ]
        }
      ]
    },
    {
      "cell_type": "code",
      "source": [],
      "metadata": {
        "id": "_1IW_mUmH49s"
      },
      "execution_count": null,
      "outputs": []
    },
    {
      "cell_type": "code",
      "source": [
        "#2.)while loop\n",
        "#The while loop repeats a block of code as long as a given condition is true. If the condition becomes false, the loop terminates.\n",
        "\n",
        "# Example: Print numbers from 1 to 5\n",
        "i = 1\n",
        "\n",
        "while i <= 5:\n",
        "    print(i)\n",
        "    i += 1  # increment i to avoid infinite loop\n"
      ],
      "metadata": {
        "colab": {
          "base_uri": "https://localhost:8080/"
        },
        "id": "yTCbiHiQHkXQ",
        "outputId": "5370669b-460c-43f8-9766-6c51870c33b1"
      },
      "execution_count": 17,
      "outputs": [
        {
          "output_type": "stream",
          "name": "stdout",
          "text": [
            "1\n",
            "2\n",
            "3\n",
            "4\n",
            "5\n"
          ]
        }
      ]
    }
  ]
}